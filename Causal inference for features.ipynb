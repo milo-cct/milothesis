{
 "cells": [
  {
   "cell_type": "code",
   "execution_count": 1,
   "id": "91f9b28f",
   "metadata": {},
   "outputs": [],
   "source": [
    "import pandas as pd\n",
    "import numpy as np\n",
    "import seaborn as sns\n",
    "import matplotlib.pyplot as plt"
   ]
  },
  {
   "cell_type": "code",
   "execution_count": 2,
   "id": "bfdbd8de",
   "metadata": {},
   "outputs": [],
   "source": [
    "df=pd.read_csv(\"DATAstudents.csv\")"
   ]
  },
  {
   "cell_type": "markdown",
   "id": "42fb5e35",
   "metadata": {},
   "source": [
    "Class Labels\n",
    "\n",
    "Student ID\n",
    "1- Student Age (1: 18-21, 2: 22-25, 3: above 26)\n",
    "2- Sex (1: female, 2: male)\n",
    "3- Graduated high-school type: (1: private, 2: state, 3: other)\n",
    "4- Scholarship type: (1: None, 2: 25%, 3: 50%, 4: 75%, 5: Full)\n",
    "5- Additional work: (1: Yes, 2: No)\n",
    "6- Regular artistic or sports activity: (1: Yes, 2: No)\n",
    "7- Do you have a partner: (1: Yes, 2: No)\n",
    "8- Total salary if available (1: USD 135-200, 2: USD 201-270, 3: USD 271-340, 4: USD 341-410, 5: above 410)\n",
    "9- Transportation to the university: (1: Bus, 2: Private car/taxi, 3: bicycle, 4: Other)\n",
    "10- Accommodation type in Cyprus: (1: rental, 2: dormitory, 3: with family, 4: Other)\n",
    "11- Mothers education: (1: primary school, 2: secondary school, 3: high school, 4: university, 5: MSc., 6: Ph.D.)\n",
    "12- Fathers education: (1: primary school, 2: secondary school, 3: high school, 4: university, 5: MSc., 6: Ph.D.)\n",
    "13- Number of sisters/brothers (if available): (1: 1, 2:, 2, 3: 3, 4: 4, 5: 5 or above)\n",
    "14- Parental status: (1: married, 2: divorced, 3: died - one of them or both)\n",
    "15- Mothers occupation: (1: retired, 2: housewife, 3: government officer, 4: private sector employee, 5: self-employment, 6: other)\n",
    "16- Fathers occupation: (1: retired, 2: government officer, 3: private sector employee, 4: self-employment, 5: other)\n",
    "17- Weekly study hours: (1: None, 2: <5 hours, 3: 6-10 hours, 4: 11-20 hours, 5: more than 20 hours)\n",
    "18- Reading frequency (non-scientific books/journals): (1: None, 2: Sometimes, 3: Often)\n",
    "19- Reading frequency (scientific books/journals): (1: None, 2: Sometimes, 3: Often)\n",
    "20- Attendance to the seminars/conferences related to the department: (1: Yes, 2: No)\n",
    "21- Impact of your projects/activities on your success: (1: positive, 2: negative, 3: neutral)\n",
    "22- Attendance to classes (1: always, 2: sometimes, 3: never)\n",
    "23- Preparation to midterm exams 1: (1: alone, 2: with friends, 3: not applicable)\n",
    "24- Preparation to midterm exams 2: (1: closest date to the exam, 2: regularly during the semester, 3: never)\n",
    "25- Taking notes in classes: (1: never, 2: sometimes, 3: always)\n",
    "26- Listening in classes: (1: never, 2: sometimes, 3: always)\n",
    "27- Discussion improves my interest and success in the course: (1: never, 2: sometimes, 3: always)\n",
    "28- Flip-classroom: (1: not useful, 2: useful, 3: not applicable)\n",
    "29- Cumulative grade point average in the last semester (/4.00): (1: <2.00, 2: 2.00-2.49, 3: 2.50-2.99, 4: 3.00-3.49, 5: above 3.49)\n",
    "30- Expected Cumulative grade point average in the graduation (/4.00): (1: <2.00, 2: 2.00-2.49, 3: 2.50-2.99, 4: 3.00-3.49, 5: above 3.49)\n",
    "31- Course ID\n",
    "32- OUTPUT Grade (0: Fail, 1: DD, 2: DC, 3: CC, 4: CB, 5: BB, 6: BA, 7: AA)"
   ]
  },
  {
   "cell_type": "code",
   "execution_count": 3,
   "id": "63f009f8",
   "metadata": {},
   "outputs": [
    {
     "data": {
      "text/plain": [
       "array([1, 2, 3, 4, 5], dtype=int64)"
      ]
     },
     "execution_count": 3,
     "metadata": {},
     "output_type": "execute_result"
    }
   ],
   "source": [
    "df['8'].unique()"
   ]
  },
  {
   "cell_type": "markdown",
   "id": "d4a7d0ea",
   "metadata": {},
   "source": [
    "# Defining the Causal model\n",
    "the causal model here will need to designed based on domain knowledge and the relationship of various features to each other, attempting to make reasonable assumprions about the causal direction of various relationships"
   ]
  }
 ],
 "metadata": {
  "kernelspec": {
   "display_name": "Python 3 (ipykernel)",
   "language": "python",
   "name": "python3"
  },
  "language_info": {
   "codemirror_mode": {
    "name": "ipython",
    "version": 3
   },
   "file_extension": ".py",
   "mimetype": "text/x-python",
   "name": "python",
   "nbconvert_exporter": "python",
   "pygments_lexer": "ipython3",
   "version": "3.9.13"
  }
 },
 "nbformat": 4,
 "nbformat_minor": 5
}
